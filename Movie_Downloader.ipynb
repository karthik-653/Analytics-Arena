{
  "nbformat": 4,
  "nbformat_minor": 0,
  "metadata": {
    "colab": {
      "provenance": [],
      "include_colab_link": true
    },
    "kernelspec": {
      "name": "python3",
      "display_name": "Python 3"
    },
    "language_info": {
      "name": "python"
    },
    "widgets": {
      "application/vnd.jupyter.widget-state+json": {
        "0ab36100109447818fb73fde5c3dae92": {
          "model_module": "@jupyter-widgets/controls",
          "model_name": "FloatSliderModel",
          "model_module_version": "1.5.0",
          "state": {
            "_dom_classes": [],
            "_model_module": "@jupyter-widgets/controls",
            "_model_module_version": "1.5.0",
            "_model_name": "FloatSliderModel",
            "_view_count": null,
            "_view_module": "@jupyter-widgets/controls",
            "_view_module_version": "1.5.0",
            "_view_name": "FloatSliderView",
            "continuous_update": true,
            "description": "The Curious Case of Benjamin Button (2008) 1348.103 kB/s downloading",
            "description_tooltip": null,
            "disabled": true,
            "layout": "IPY_MODEL_fa1ee6e80091454393fd4427cd5cc480",
            "max": 100,
            "min": 0,
            "orientation": "horizontal",
            "readout": true,
            "readout_format": ".2f",
            "step": 0.01,
            "style": "IPY_MODEL_35e55a51848a4a4590090d970ab0308a",
            "value": 99.99030232429504
          }
        },
        "fa1ee6e80091454393fd4427cd5cc480": {
          "model_module": "@jupyter-widgets/base",
          "model_name": "LayoutModel",
          "model_module_version": "1.2.0",
          "state": {
            "_model_module": "@jupyter-widgets/base",
            "_model_module_version": "1.2.0",
            "_model_name": "LayoutModel",
            "_view_count": null,
            "_view_module": "@jupyter-widgets/base",
            "_view_module_version": "1.2.0",
            "_view_name": "LayoutView",
            "align_content": null,
            "align_items": null,
            "align_self": null,
            "border": null,
            "bottom": null,
            "display": null,
            "flex": null,
            "flex_flow": null,
            "grid_area": null,
            "grid_auto_columns": null,
            "grid_auto_flow": null,
            "grid_auto_rows": null,
            "grid_column": null,
            "grid_gap": null,
            "grid_row": null,
            "grid_template_areas": null,
            "grid_template_columns": null,
            "grid_template_rows": null,
            "height": null,
            "justify_content": null,
            "justify_items": null,
            "left": null,
            "margin": null,
            "max_height": null,
            "max_width": null,
            "min_height": null,
            "min_width": null,
            "object_fit": null,
            "object_position": null,
            "order": null,
            "overflow": null,
            "overflow_x": null,
            "overflow_y": null,
            "padding": null,
            "right": null,
            "top": null,
            "visibility": null,
            "width": "auto"
          }
        },
        "35e55a51848a4a4590090d970ab0308a": {
          "model_module": "@jupyter-widgets/controls",
          "model_name": "SliderStyleModel",
          "model_module_version": "1.5.0",
          "state": {
            "_model_module": "@jupyter-widgets/controls",
            "_model_module_version": "1.5.0",
            "_model_name": "SliderStyleModel",
            "_view_count": null,
            "_view_module": "@jupyter-widgets/base",
            "_view_module_version": "1.2.0",
            "_view_name": "StyleView",
            "description_width": "initial",
            "handle_color": null
          }
        }
      }
    }
  },
  "cells": [
    {
      "cell_type": "markdown",
      "metadata": {
        "id": "view-in-github",
        "colab_type": "text"
      },
      "source": [
        "<a href=\"https://colab.research.google.com/github/karthik-653/Analytics-Arena/blob/main/Movie_Downloader.ipynb\" target=\"_parent\"><img src=\"https://colab.research.google.com/assets/colab-badge.svg\" alt=\"Open In Colab\"/></a>"
      ]
    },
    {
      "cell_type": "markdown",
      "source": [
        "# ***1337x  Searcher***"
      ],
      "metadata": {
        "id": "jCx67yIOaVVE"
      }
    },
    {
      "cell_type": "code",
      "source": [
        "from google.colab import drive\n",
        "drive.mount('/content/drive')"
      ],
      "metadata": {
        "id": "v9Hc0LdkmVGs"
      },
      "execution_count": null,
      "outputs": []
    },
    {
      "cell_type": "code",
      "execution_count": 1,
      "metadata": {
        "id": "H5n86IpWaS-_",
        "colab": {
          "base_uri": "https://localhost:8080/"
        },
        "outputId": "b6b1a90f-95ef-45a0-d6b9-ad69b9f313c3"
      },
      "outputs": [
        {
          "output_type": "stream",
          "name": "stdout",
          "text": [
            "Looking in indexes: https://pypi.org/simple, https://us-python.pkg.dev/colab-wheels/public/simple/\n",
            "Collecting 1337x\n",
            "  Downloading 1337x-1.2.4-py3-none-any.whl (8.1 kB)\n",
            "Requirement already satisfied: requests in /usr/local/lib/python3.10/dist-packages (from 1337x) (2.27.1)\n",
            "Collecting bs4 (from 1337x)\n",
            "  Downloading bs4-0.0.1.tar.gz (1.1 kB)\n",
            "  Preparing metadata (setup.py) ... \u001b[?25l\u001b[?25hdone\n",
            "Collecting requests-cache (from 1337x)\n",
            "  Downloading requests_cache-1.0.1-py3-none-any.whl (58 kB)\n",
            "\u001b[2K     \u001b[90m━━━━━━━━━━━━━━━━━━━━━━━━━━━━━━━━━━━━━━━━\u001b[0m \u001b[32m58.7/58.7 kB\u001b[0m \u001b[31m3.6 MB/s\u001b[0m eta \u001b[36m0:00:00\u001b[0m\n",
            "\u001b[?25hRequirement already satisfied: beautifulsoup4 in /usr/local/lib/python3.10/dist-packages (from bs4->1337x) (4.11.2)\n",
            "Requirement already satisfied: urllib3<1.27,>=1.21.1 in /usr/local/lib/python3.10/dist-packages (from requests->1337x) (1.26.16)\n",
            "Requirement already satisfied: certifi>=2017.4.17 in /usr/local/lib/python3.10/dist-packages (from requests->1337x) (2023.5.7)\n",
            "Requirement already satisfied: charset-normalizer~=2.0.0 in /usr/local/lib/python3.10/dist-packages (from requests->1337x) (2.0.12)\n",
            "Requirement already satisfied: idna<4,>=2.5 in /usr/local/lib/python3.10/dist-packages (from requests->1337x) (3.4)\n",
            "Requirement already satisfied: attrs>=21.2 in /usr/local/lib/python3.10/dist-packages (from requests-cache->1337x) (23.1.0)\n",
            "Collecting cattrs>=22.2 (from requests-cache->1337x)\n",
            "  Downloading cattrs-23.1.2-py3-none-any.whl (50 kB)\n",
            "\u001b[2K     \u001b[90m━━━━━━━━━━━━━━━━━━━━━━━━━━━━━━━━━━━━━━━━\u001b[0m \u001b[32m50.8/50.8 kB\u001b[0m \u001b[31m5.2 MB/s\u001b[0m eta \u001b[36m0:00:00\u001b[0m\n",
            "\u001b[?25hRequirement already satisfied: platformdirs>=2.5 in /usr/local/lib/python3.10/dist-packages (from requests-cache->1337x) (3.7.0)\n",
            "Collecting url-normalize>=1.4 (from requests-cache->1337x)\n",
            "  Downloading url_normalize-1.4.3-py2.py3-none-any.whl (6.8 kB)\n",
            "Requirement already satisfied: exceptiongroup in /usr/local/lib/python3.10/dist-packages (from cattrs>=22.2->requests-cache->1337x) (1.1.1)\n",
            "Requirement already satisfied: typing_extensions>=4.1.0 in /usr/local/lib/python3.10/dist-packages (from cattrs>=22.2->requests-cache->1337x) (4.6.3)\n",
            "Requirement already satisfied: six in /usr/local/lib/python3.10/dist-packages (from url-normalize>=1.4->requests-cache->1337x) (1.16.0)\n",
            "Requirement already satisfied: soupsieve>1.2 in /usr/local/lib/python3.10/dist-packages (from beautifulsoup4->bs4->1337x) (2.4.1)\n",
            "Building wheels for collected packages: bs4\n",
            "  Building wheel for bs4 (setup.py) ... \u001b[?25l\u001b[?25hdone\n",
            "  Created wheel for bs4: filename=bs4-0.0.1-py3-none-any.whl size=1257 sha256=1319746352d43aa2acd6d70754d4afed146aea177c9a76089a37fd135f8b53bb\n",
            "  Stored in directory: /root/.cache/pip/wheels/25/42/45/b773edc52acb16cd2db4cf1a0b47117e2f69bb4eb300ed0e70\n",
            "Successfully built bs4\n",
            "Installing collected packages: url-normalize, cattrs, requests-cache, bs4, 1337x\n",
            "Successfully installed 1337x-1.2.4 bs4-0.0.1 cattrs-23.1.2 requests-cache-1.0.1 url-normalize-1.4.3\n"
          ]
        }
      ],
      "source": [
        "!pip install 1337x\n",
        "!python -m pip install --upgrade pip setuptools wheel\n",
        "!python -m pip install lbry-libtorrent\n",
        "!apt install python3-libtorrent"
      ]
    },
    {
      "cell_type": "code",
      "source": [
        "from py1337x import py1337x\n",
        "import json\n",
        "import smtplib\n",
        "from google.colab import files\n",
        "import requests\n",
        "import time\n",
        "from IPython.display import display\n",
        "import ipywidgets as widgets\n",
        "import libtorrent as lt\n",
        "file_path = '/content/drive/MyDrive/Movies'"
      ],
      "metadata": {
        "id": "TR7ZxPJMaO93"
      },
      "execution_count": 2,
      "outputs": []
    },
    {
      "cell_type": "code",
      "source": [
        "class TorrentFile:\n",
        "    def __init__(self, name, torrentId, link, seeders, leechers, size, time,magnet):\n",
        "        self.name = name\n",
        "        self.torrentId = torrentId\n",
        "        self.link = link\n",
        "        self.seeders = seeders\n",
        "        self.leechers = leechers\n",
        "        self.size = size\n",
        "        self.time = time\n",
        "        self.magnet = magnet\n",
        "\n",
        "    def printDeiails(self):\n",
        "        print('Name :'+self.name+'\\nID : '+self.torrentId+'\\nSize : '+self.size+'\\nSeeders : '+self.seeders+'\\nLeechers : '+self.leechers+'\\nMagnet : '+self.magnet[:50])"
      ],
      "metadata": {
        "id": "8MpDXX_5391g"
      },
      "execution_count": 3,
      "outputs": []
    },
    {
      "cell_type": "code",
      "source": [
        "search = input()"
      ],
      "metadata": {
        "colab": {
          "base_uri": "https://localhost:8080/"
        },
        "id": "nDLrjA5AuDAM",
        "outputId": "0a4a2c99-9267-49cb-eccb-d3f075c1691d"
      },
      "execution_count": 4,
      "outputs": [
        {
          "name": "stdout",
          "output_type": "stream",
          "text": [
            "curious case of benjamin button\n"
          ]
        }
      ]
    },
    {
      "cell_type": "code",
      "source": [
        "# site = input.getSite(1)\n",
        "site = '1337x.to'\n",
        "li = dict()\n",
        "li2 = dict()\n",
        "myList = list()\n",
        "myList2 = list()\n",
        "\n",
        "\n",
        "torrents = py1337x(proxy=site, cache='py1337xCache', cacheTime=500)\n",
        "li = torrents.search(search, sortBy='seeders', order='desc')\n",
        "myList = li['items']\n",
        "cnt = 1\n",
        "for i in myList:\n",
        "  str1 = i\n",
        "  li2 = torrents.info(torrentId=str1['torrentId'])\n",
        "  obj = TorrentFile(str1['name'], str1['torrentId'], str1['link'],\n",
        "                      str1['seeders'], str1['leechers'], str1['size'],\n",
        "                      str1['time'],li2['magnetLink'])\n",
        "  print(str(cnt)+\"]\")\n",
        "  cnt+=1\n",
        "  myList2.append(obj)\n",
        "  obj.printDeiails()\n",
        "  print(\"\\n\\n\")"
      ],
      "metadata": {
        "id": "42isHcy4bDRL",
        "colab": {
          "base_uri": "https://localhost:8080/"
        },
        "outputId": "f0c1cdf1-9f89-44e5-d2f0-2f2df9153f22"
      },
      "execution_count": 5,
      "outputs": [
        {
          "output_type": "stream",
          "name": "stdout",
          "text": [
            "1]\n",
            "Name :The Curious Case of Benjamin Button 2008 720p BrRip x264 YIFY\n",
            "ID : 1338023\n",
            "Size : 649.8 MB\n",
            "Seeders : 124\n",
            "Leechers : 8\n",
            "Magnet : magnet:?xt=urn:btih:B3452596144D82B9292A8E2788BEDC\n",
            "\n",
            "\n",
            "\n",
            "2]\n",
            "Name :The Curious Case of Benjamin Button (2008) Criterion (1080p BluRay x265 HEVC 10bit AAC 5.1 Tigole) [...\n",
            "ID : 4136282\n",
            "Size : 8.5 GB\n",
            "Seeders : 48\n",
            "Leechers : 22\n",
            "Magnet : magnet:?xt=urn:btih:80354C2F43A163775F45A81F8116E1\n",
            "\n",
            "\n",
            "\n",
            "3]\n",
            "Name :The Curious Case Of Benjamin Button[2008]DvDrip[Eng]-FXG\n",
            "ID : 17139\n",
            "Size : 961.8 MB\n",
            "Seeders : 24\n",
            "Leechers : 7\n",
            "Magnet : magnet:?xt=urn:btih:E36A0DB8D172A6DFA0D45AD0FAAED1\n",
            "\n",
            "\n",
            "\n",
            "4]\n",
            "Name :The Curious Case of Benjamin Button (2008) HDRip x264 Dual Audio [Hindi - English] Esub [Team DRSD]\n",
            "ID : 3602983\n",
            "Size : 808.4 MB\n",
            "Seeders : 23\n",
            "Leechers : 7\n",
            "Magnet : magnet:?xt=urn:btih:4B9D1438A79E43A4F4A97A13584991\n",
            "\n",
            "\n",
            "\n",
            "5]\n",
            "Name :The Curious Case of Benjamin Button (2008) (1080p x265 HEVC 10bit BluRay AC3 5.1) [Prof]\n",
            "ID : 5068686\n",
            "Size : 7.4 GB\n",
            "Seeders : 19\n",
            "Leechers : 2\n",
            "Magnet : magnet:?xt=urn:btih:C383C15007F12D3D70D7D03EB142E8\n",
            "\n",
            "\n",
            "\n",
            "6]\n",
            "Name :The Curious Case Of Benjamin Button (2008) 720p BluRay x264 -[MoviesFD7]\n",
            "ID : 5044548\n",
            "Size : 1.3 GB\n",
            "Seeders : 16\n",
            "Leechers : 0\n",
            "Magnet : magnet:?xt=urn:btih:BC4189E7319C40481E013FD372AFCA\n",
            "\n",
            "\n",
            "\n",
            "7]\n",
            "Name :The Curious Case of Benjamin Button - Il curioso caso di Benjamin Button (2008) AC3 5.1 ITA.ENG 1080...\n",
            "ID : 4524489\n",
            "Size : 3.5 GB\n",
            "Seeders : 10\n",
            "Leechers : 2\n",
            "Magnet : magnet:?xt=urn:btih:EB5BBD32B528ADB436788A362F656A\n",
            "\n",
            "\n",
            "\n",
            "8]\n",
            "Name :The.Curious.Case.Of.Benjamin.Button.2008.720p.BrRip.x265.HEVCBay\n",
            "ID : 3875031\n",
            "Size : 423.4 MB\n",
            "Seeders : 9\n",
            "Leechers : 1\n",
            "Magnet : magnet:?xt=urn:btih:DD0274CB690432E544636593687525\n",
            "\n",
            "\n",
            "\n",
            "9]\n",
            "Name :The Curious Case Of Benjamin Button (2008) [BDrip 1080p - H264 - Ita Eng Ac3 5.1 - Sub Ita Eng] by F...\n",
            "ID : 1430128\n",
            "Size : 9.2 GB\n",
            "Seeders : 7\n",
            "Leechers : 0\n",
            "Magnet : magnet:?xt=urn:btih:DE3C18D4E3DC8428F0F931FEEFFBB4\n",
            "\n",
            "\n",
            "\n",
            "10]\n",
            "Name :The Curious Case of Benjamin Button 2008 720p Esub BluRay Dual Audio English Hindi GOPISAHI\n",
            "ID : 2480683\n",
            "Size : 808.4 MB\n",
            "Seeders : 5\n",
            "Leechers : 0\n",
            "Magnet : magnet:?xt=urn:btih:11682CC301D907AFB5297562693F18\n",
            "\n",
            "\n",
            "\n",
            "11]\n",
            "Name :The Curious Case of Benjamin Button (2008) BRRiP 1080p Me\n",
            "ID : 986636\n",
            "Size : 3.9 GB\n",
            "Seeders : 3\n",
            "Leechers : 0\n",
            "Magnet : magnet:?xt=urn:btih:2E2492375B130C47C2E08C89B71F7D\n",
            "\n",
            "\n",
            "\n",
            "12]\n",
            "Name :The Curious Case of Benjamin Button - Francis_Scott_Fitzgera.Legend2000\n",
            "ID : 334300\n",
            "Size : 181.4 KB\n",
            "Seeders : 2\n",
            "Leechers : 0\n",
            "Magnet : magnet:?xt=urn:btih:6F3807C31D1071B00E603437CA4BA7\n",
            "\n",
            "\n",
            "\n",
            "13]\n",
            "Name :The.Curious.Case.of.Benjamin.Button.2008.720p.BRrip.x265.HEVC.10bit.PoOlLa\n",
            "ID : 2121027\n",
            "Size : 499.2 MB\n",
            "Seeders : 1\n",
            "Leechers : 3\n",
            "Magnet : magnet:?xt=urn:btih:BF8E98CEBC788A161E8A34AF2D797C\n",
            "\n",
            "\n",
            "\n",
            "14]\n",
            "Name :The Curious Case of Benjamin Button (2008) DVD NTSC Latino YG\n",
            "ID : 581774\n",
            "Size : 4.4 GB\n",
            "Seeders : 1\n",
            "Leechers : 0\n",
            "Magnet : magnet:?xt=urn:btih:92792616151452C53B39B3F62D45EA\n",
            "\n",
            "\n",
            "\n",
            "15]\n",
            "Name :The Curious Case of Benjamin Button 2008 720p BRRip Ali Baloch Silver RG\n",
            "ID : 241222\n",
            "Size : 637.0 MB\n",
            "Seeders : 1\n",
            "Leechers : 0\n",
            "Magnet : magnet:?xt=urn:btih:2C97D6694FB6AB899F113A9A6C1E73\n",
            "\n",
            "\n",
            "\n",
            "16]\n",
            "Name :The Curious Case of Benjamin Button (2008)(MULTI SUBS 11)2Lions-Team\n",
            "ID : 40716\n",
            "Size : 4.3 GB\n",
            "Seeders : 1\n",
            "Leechers : 0\n",
            "Magnet : magnet:?xt=urn:btih:641A9D3987FD33D2BC6FA93BB8D73F\n",
            "\n",
            "\n",
            "\n",
            "17]\n",
            "Name :The Curious Case Of Benjamin Button 2008 BDRip H264 5.1 ch-SecretMyth (Kingdom-Release)\n",
            "ID : 18438\n",
            "Size : 2.3 GB\n",
            "Seeders : 1\n",
            "Leechers : 0\n",
            "Magnet : magnet:?xt=urn:btih:6D3B1B08FBCDF478E1542DFCDC8397\n",
            "\n",
            "\n",
            "\n",
            "18]\n",
            "Name :The Curious Case Of Benjamin Button 2008 DVDScr H264 AAC-SecretMyth (Kingdom-Release)\n",
            "ID : 9640\n",
            "Size : 1.4 GB\n",
            "Seeders : 1\n",
            "Leechers : 0\n",
            "Magnet : magnet:?xt=urn:btih:8B3F6171E0DEA23EAC168D57D11A61\n",
            "\n",
            "\n",
            "\n",
            "19]\n",
            "Name :The Curious Case Of Benjamin Button 2008 DVDSCR-Bloodshot(No Rars)\n",
            "ID : 9480\n",
            "Size : 1.7 GB\n",
            "Seeders : 1\n",
            "Leechers : 0\n",
            "Magnet : magnet:?xt=urn:btih:D5E263AB641E47FA1D11289C4F1955\n",
            "\n",
            "\n",
            "\n",
            "20]\n",
            "Name :The Curious Case Of Benjamin Button 2008 480p Bluray x264-RMTeam\n",
            "ID : 2706034\n",
            "Size : 698.8 MB\n",
            "Seeders : 0\n",
            "Leechers : 1\n",
            "Magnet : magnet:?xt=urn:btih:56ABF63EC305C335FD937AD42FD494\n",
            "\n",
            "\n",
            "\n"
          ]
        }
      ]
    },
    {
      "cell_type": "code",
      "source": [
        "which = 0\n",
        "mes = myList2[which].magnet\n",
        "print(mes)"
      ],
      "metadata": {
        "colab": {
          "base_uri": "https://localhost:8080/"
        },
        "id": "A99pFshliwPp",
        "outputId": "679e8862-a9d3-4f37-a6f3-a20cabe22987"
      },
      "execution_count": 6,
      "outputs": [
        {
          "output_type": "stream",
          "name": "stdout",
          "text": [
            "magnet:?xt=urn:btih:B3452596144D82B9292A8E2788BEDC00F96364BB&dn=The+Curious+Case+of+Benjamin+Button+2008+720p+BrRip+x264+YIFY&tr=udp%3A%2F%2Fopen.demonii.com%3A1337&tr=udp%3A%2F%2Ftracker.coppersurfer.tk%3A6969&tr=udp%3A%2F%2Ftracker.leechers-paradise.org%3A6969&tr=udp%3A%2F%2Ftracker.pomf.se%3A80&tr=udp%3A%2F%2Ftracker.publicbt.com%3A80&tr=udp%3A%2F%2Ftracker.openbittorrent.com%3A80&tr=udp%3A%2F%2Ftracker.istole.it%3A80&tr=udp%3A%2F%2Ftracker.opentrackr.org%3A1337%2Fannounce&tr=http%3A%2F%2Ftracker.openbittorrent.com%3A80%2Fannounce&tr=udp%3A%2F%2Fopentracker.i2p.rocks%3A6969%2Fannounce&tr=udp%3A%2F%2Ftracker.internetwarriors.net%3A1337%2Fannounce&tr=udp%3A%2F%2Ftracker.leechers-paradise.org%3A6969%2Fannounce&tr=udp%3A%2F%2Fcoppersurfer.tk%3A6969%2Fannounce&tr=udp%3A%2F%2Ftracker.zer0day.to%3A1337%2Fannounce\n"
          ]
        }
      ]
    },
    {
      "cell_type": "code",
      "source": [
        "ses = lt.session()\n",
        "ses.listen_on(6881, 6891)\n",
        "downloads = []"
      ],
      "metadata": {
        "id": "PA2J4SgoZHo2"
      },
      "execution_count": 14,
      "outputs": []
    },
    {
      "cell_type": "code",
      "source": [
        "params = {\"save_path\": file_path}\n",
        "downloads.append(lt.add_magnet_uri(ses, mes, params))"
      ],
      "metadata": {
        "id": "khk8Qf7CY7iO"
      },
      "execution_count": 13,
      "outputs": []
    },
    {
      "cell_type": "code",
      "source": [
        "state_str = [\n",
        "    \"queued\",\n",
        "    \"checking\",\n",
        "    \"downloading metadata\",\n",
        "    \"downloading\",\n",
        "    \"finished\",\n",
        "    \"seeding\",\n",
        "    \"allocating\",\n",
        "    \"checking fastresume\",\n",
        "]\n",
        "\n",
        "layout = widgets.Layout(width=\"auto\")\n",
        "style = {\"description_width\": \"initial\"}\n",
        "download_bars = [\n",
        "    widgets.FloatSlider(\n",
        "        step=0.01, disabled=True, layout=layout, style=style\n",
        "    )\n",
        "    for _ in downloads\n",
        "]\n",
        "display(*download_bars)\n",
        "\n",
        "while downloads:\n",
        "    next_shift = 0\n",
        "    for index, download in enumerate(downloads[:]):\n",
        "        bar = download_bars[index + next_shift]\n",
        "        if not download.is_seed():\n",
        "            s = download.status()\n",
        "\n",
        "            bar.description = \" \".join(\n",
        "                [\n",
        "                    download.name(),\n",
        "                    str(s.download_rate / 1000),\n",
        "                    \"kB/s\",\n",
        "                    state_str[s.state],\n",
        "                ]\n",
        "            )\n",
        "            bar.value = s.progress * 100\n",
        "        else:\n",
        "            next_shift -= 1\n",
        "            ses.remove_torrent(download)\n",
        "            downloads.remove(download)\n",
        "            bar.close() # Seems to be not working in Colab (see https://github.com/googlecolab/colabtools/issues/726#issue-486731758)\n",
        "            download_bars.remove(bar)\n",
        "            print(download.name(), \"complete\")\n",
        "    time.sleep(1)\n",
        "\n",
        "\n",
        "print(\"Download complete!\")"
      ],
      "metadata": {
        "id": "LZIedazfPlsd",
        "outputId": "0b9ad615-29cd-4b68-9275-5b0e55683cdb",
        "colab": {
          "base_uri": "https://localhost:8080/",
          "height": 52,
          "referenced_widgets": [
            "0ab36100109447818fb73fde5c3dae92",
            "fa1ee6e80091454393fd4427cd5cc480",
            "35e55a51848a4a4590090d970ab0308a"
          ]
        }
      },
      "execution_count": 10,
      "outputs": [
        {
          "output_type": "display_data",
          "data": {
            "text/plain": [
              "FloatSlider(value=0.0, disabled=True, layout=Layout(width='auto'), step=0.01, style=SliderStyle(description_wi…"
            ],
            "application/vnd.jupyter.widget-view+json": {
              "version_major": 2,
              "version_minor": 0,
              "model_id": "0ab36100109447818fb73fde5c3dae92"
            }
          },
          "metadata": {}
        },
        {
          "output_type": "stream",
          "name": "stdout",
          "text": [
            "The Curious Case of Benjamin Button (2008) complete\n",
            "Download complete!\n"
          ]
        }
      ]
    },
    {
      "cell_type": "code",
      "source": [],
      "metadata": {
        "id": "LqAWhgkLVvfj"
      },
      "execution_count": null,
      "outputs": []
    }
  ]
}